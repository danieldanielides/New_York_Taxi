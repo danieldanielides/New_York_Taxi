{
 "cells": [
  {
   "attachments": {},
   "cell_type": "markdown",
   "metadata": {
    "slideshow": {
     "slide_type": "slide"
    }
   },
   "source": [
    "# NYC Taxi_Part II\n",
    "\n",
    "* Inspired by Chapter 2 of Cyrille Rossant's book, Learning IPython for Interactive Computing and Data Visualization, 2nd edition, Packt Publishing, 2015.\n",
    "\n",
    "## Trip Lenghts"
   ]
  },
  {
   "cell_type": "code",
   "execution_count": 3,
   "metadata": {
    "slideshow": {
     "slide_type": "slide"
    }
   },
   "outputs": [],
   "source": [
    "import numpy as np\n",
    "import pandas as pd\n",
    "import matplotlib.pyplot as plt"
   ]
  },
  {
   "cell_type": "markdown",
   "metadata": {
    "slideshow": {
     "slide_type": "slide"
    }
   },
   "source": [
    "* We start by reading the data."
   ]
  },
  {
   "cell_type": "code",
   "execution_count": 4,
   "metadata": {
    "slideshow": {
     "slide_type": "fragment"
    }
   },
   "outputs": [],
   "source": [
    "data = pd.read_csv(\"nyc_taxi_trip_data_sample.csv.zip\")"
   ]
  },
  {
   "cell_type": "markdown",
   "metadata": {
    "slideshow": {
     "slide_type": "slide"
    }
   },
   "source": [
    "* We've seen how to get an overview of a `DataFrame`'S values through the `describe()` method.\n",
    "\n",
    "* We can also investigate the values of a specific column by calling the appropriate methods on the `Series` object."
   ]
  },
  {
   "cell_type": "code",
   "execution_count": 5,
   "metadata": {
    "slideshow": {
     "slide_type": "fragment"
    }
   },
   "outputs": [
    {
     "data": {
      "text/plain": [
       "(1731797, 0.0, 950000.0)"
      ]
     },
     "execution_count": 5,
     "metadata": {},
     "output_type": "execute_result"
    }
   ],
   "source": [
    "data['trip_distance'].count(), data['trip_distance'].min(), data['trip_distance'].max()"
   ]
  },
  {
   "cell_type": "markdown",
   "metadata": {
    "slideshow": {
     "slide_type": "slide"
    }
   },
   "source": [
    "* or even:"
   ]
  },
  {
   "cell_type": "code",
   "execution_count": 6,
   "metadata": {
    "slideshow": {
     "slide_type": "fragment"
    }
   },
   "outputs": [
    {
     "data": {
      "text/plain": [
       "(3.4580053089363254, 1.8, 722.1294512762366)"
      ]
     },
     "execution_count": 6,
     "metadata": {},
     "output_type": "execute_result"
    }
   ],
   "source": [
    "data['trip_distance'].mean(), data['trip_distance'].median(), data['trip_distance'].std()"
   ]
  },
  {
   "cell_type": "markdown",
   "metadata": {
    "collapsed": true,
    "slideshow": {
     "slide_type": "slide"
    }
   },
   "source": [
    "* If the mean distance is about 3.5 miles and the median is 1.8 miles, what is the typical, or most common, distance of a ride?"
   ]
  },
  {
   "cell_type": "code",
   "execution_count": 7,
   "metadata": {
    "slideshow": {
     "slide_type": "fragment"
    }
   },
   "outputs": [
    {
     "data": {
      "text/plain": [
       "0    1.0\n",
       "Name: trip_distance, dtype: float64"
      ]
     },
     "execution_count": 7,
     "metadata": {},
     "output_type": "execute_result"
    }
   ],
   "source": [
    "data['trip_distance'].mode()"
   ]
  },
  {
   "cell_type": "markdown",
   "metadata": {
    "slideshow": {
     "slide_type": "slide"
    }
   },
   "source": [
    "* And what are the ten most common distances?\n",
    "\n",
    "* The `value_counts()` method counts each distinct value and lists them in descending order.\n",
    "\n",
    "* If we wanted ascending order, we would pass the `ascending=True` parameter."
   ]
  },
  {
   "cell_type": "code",
   "execution_count": 8,
   "metadata": {
    "slideshow": {
     "slide_type": "fragment"
    }
   },
   "outputs": [
    {
     "data": {
      "text/plain": [
       "1.00     43414\n",
       "0.90     38480\n",
       "0.80     37655\n",
       "1.10     37448\n",
       "1.20     36056\n",
       "         ...  \n",
       "31.97        1\n",
       "34.28        1\n",
       "36.00        1\n",
       "41.06        1\n",
       "24.87        1\n",
       "Name: trip_distance, Length: 3004, dtype: int64"
      ]
     },
     "execution_count": 8,
     "metadata": {},
     "output_type": "execute_result"
    }
   ],
   "source": [
    "data['trip_distance'].value_counts()"
   ]
  },
  {
   "cell_type": "markdown",
   "metadata": {
    "slideshow": {
     "slide_type": "slide"
    }
   },
   "source": [
    "* As we can see, there are thousands of different values.\n",
    "\n",
    "* Suppose we want to take the ten most common ones.\n",
    "\n",
    "* We can test with the usual Python syntax."
   ]
  },
  {
   "cell_type": "code",
   "execution_count": 9,
   "metadata": {
    "slideshow": {
     "slide_type": "fragment"
    }
   },
   "outputs": [
    {
     "data": {
      "text/plain": [
       "1.00     43414\n",
       "0.90     38480\n",
       "0.80     37655\n",
       "1.10     37448\n",
       "1.20     36056\n",
       "         ...  \n",
       "7.20      1357\n",
       "2.64      1337\n",
       "0.42      1331\n",
       "2.61      1320\n",
       "10.00     1313\n",
       "Name: trip_distance, Length: 275, dtype: int64"
      ]
     },
     "execution_count": 9,
     "metadata": {},
     "output_type": "execute_result"
    }
   ],
   "source": [
    "data['trip_distance'].value_counts()[:10]"
   ]
  },
  {
   "cell_type": "markdown",
   "metadata": {
    "slideshow": {
     "slide_type": "slide"
    }
   },
   "source": [
    "* The result is not what we expected.\n",
    "\n",
    "* The reason is that it returns us the values ​​until it finds the line with a *label* (label) equal to 10.\n",
    "\n",
    "* But we just want the first 10 in order, based on their position.\n",
    "\n",
    "* To select lines based on their position we use `iloc[]`."
   ]
  },
  {
   "cell_type": "code",
   "execution_count": 11,
   "metadata": {
    "slideshow": {
     "slide_type": "fragment"
    }
   },
   "outputs": [
    {
     "data": {
      "text/plain": [
       "1.0    43414\n",
       "0.9    38480\n",
       "0.8    37655\n",
       "1.1    37448\n",
       "1.2    36056\n",
       "0.7    34601\n",
       "1.3    33994\n",
       "1.4    32474\n",
       "1.5    31080\n",
       "0.6    30361\n",
       "Name: trip_distance, dtype: int64"
      ]
     },
     "execution_count": 11,
     "metadata": {},
     "output_type": "execute_result"
    }
   ],
   "source": [
    "data['trip_distance'].value_counts().iloc[:10]"
   ]
  },
  {
   "cell_type": "markdown",
   "metadata": {
    "slideshow": {
     "slide_type": "slide"
    }
   },
   "source": [
    "* The symmetric of `iloc[]` for tag-based selection is `loc[]` (which as we've seen doesn't produce the result we want in our case)."
   ]
  },
  {
   "cell_type": "code",
   "execution_count": 12,
   "metadata": {
    "slideshow": {
     "slide_type": "fragment"
    }
   },
   "outputs": [
    {
     "data": {
      "text/plain": [
       "1.00     43414\n",
       "0.90     38480\n",
       "0.80     37655\n",
       "1.10     37448\n",
       "1.20     36056\n",
       "         ...  \n",
       "7.20      1357\n",
       "2.64      1337\n",
       "0.42      1331\n",
       "2.61      1320\n",
       "10.00     1313\n",
       "Name: trip_distance, Length: 275, dtype: int64"
      ]
     },
     "execution_count": 12,
     "metadata": {},
     "output_type": "execute_result"
    }
   ],
   "source": [
    "data['trip_distance'].value_counts().loc[:10]"
   ]
  },
  {
   "cell_type": "markdown",
   "metadata": {
    "slideshow": {
     "slide_type": "slide"
    }
   },
   "source": [
    "* Let's make a diagram to see the distances.\n",
    "\n",
    "* The chart will be a histogram.\n",
    "\n",
    "* This can be done directly from pandas."
   ]
  },
  {
   "cell_type": "code",
   "execution_count": 18,
   "metadata": {
    "slideshow": {
     "slide_type": "slide"
    }
   },
   "outputs": [
    {
     "data": {
      "text/plain": [
       "<AxesSubplot:>"
      ]
     },
     "execution_count": 18,
     "metadata": {},
     "output_type": "execute_result"
    },
    {
     "data": {
      "image/png": "[encoded data removed]",
      "text/plain": [
       "<Figure size 720x576 with 1 Axes>"
      ]
     },
     "metadata": {
      "needs_background": "light"
     },
     "output_type": "display_data"
    }
   ],
   "source": [
    "data.trip_distance.hist(color='blue', edgecolor='black', alpha=0.5, figsize=(10, 8))"
   ]
  },
  {
   "cell_type": "markdown",
   "metadata": {
    "slideshow": {
     "slide_type": "slide"
    }
   },
   "source": [
    "* The result is probably not what we wanted.\n",
    "\n",
    "* The reason is that there are routes with outliers, such as 950,000 miles.\n",
    "\n",
    "* It probably makes sense to limit the histogram to runs from 0 to 10 miles."
   ]
  },
  {
   "cell_type": "markdown",
   "metadata": {
    "slideshow": {
     "slide_type": "slide"
    }
   },
   "source": [
    "* To do this, we should define the buckets in which we want to collect the data in the histogram.\n",
    "\n",
    "* We will find 100 values, with NumPy's `linspace()` function, to partition the data with distances from 0 to 10 miles."
   ]
  },
  {
   "cell_type": "code",
   "execution_count": 11,
   "metadata": {
    "slideshow": {
     "slide_type": "fragment"
    }
   },
   "outputs": [
    {
     "data": {
      "text/plain": [
       "array([ 0.        ,  0.1010101 ,  0.2020202 ,  0.3030303 ,  0.4040404 ,\n",
       "        0.50505051,  0.60606061,  0.70707071,  0.80808081,  0.90909091,\n",
       "        1.01010101,  1.11111111,  1.21212121,  1.31313131,  1.41414141,\n",
       "        1.51515152,  1.61616162,  1.71717172,  1.81818182,  1.91919192,\n",
       "        2.02020202,  2.12121212,  2.22222222,  2.32323232,  2.42424242,\n",
       "        2.52525253,  2.62626263,  2.72727273,  2.82828283,  2.92929293,\n",
       "        3.03030303,  3.13131313,  3.23232323,  3.33333333,  3.43434343,\n",
       "        3.53535354,  3.63636364,  3.73737374,  3.83838384,  3.93939394,\n",
       "        4.04040404,  4.14141414,  4.24242424,  4.34343434,  4.44444444,\n",
       "        4.54545455,  4.64646465,  4.74747475,  4.84848485,  4.94949495,\n",
       "        5.05050505,  5.15151515,  5.25252525,  5.35353535,  5.45454545,\n",
       "        5.55555556,  5.65656566,  5.75757576,  5.85858586,  5.95959596,\n",
       "        6.06060606,  6.16161616,  6.26262626,  6.36363636,  6.46464646,\n",
       "        6.56565657,  6.66666667,  6.76767677,  6.86868687,  6.96969697,\n",
       "        7.07070707,  7.17171717,  7.27272727,  7.37373737,  7.47474747,\n",
       "        7.57575758,  7.67676768,  7.77777778,  7.87878788,  7.97979798,\n",
       "        8.08080808,  8.18181818,  8.28282828,  8.38383838,  8.48484848,\n",
       "        8.58585859,  8.68686869,  8.78787879,  8.88888889,  8.98989899,\n",
       "        9.09090909,  9.19191919,  9.29292929,  9.39393939,  9.49494949,\n",
       "        9.5959596 ,  9.6969697 ,  9.7979798 ,  9.8989899 , 10.        ])"
      ]
     },
     "execution_count": 11,
     "metadata": {},
     "output_type": "execute_result"
    }
   ],
   "source": [
    "np.linspace(0, 10, 100)"
   ]
  },
  {
   "cell_type": "code",
   "execution_count": 16,
   "metadata": {
    "slideshow": {
     "slide_type": "slide"
    }
   },
   "outputs": [
    {
     "data": {
      "text/plain": [
       "<AxesSubplot: >"
      ]
     },
     "execution_count": 16,
     "metadata": {},
     "output_type": "execute_result"
    },
    {
     "data": {
      "image/png": "[encoded data removed]",
      "text/plain": [
       "<Figure size 1000x800 with 1 Axes>"
      ]
     },
     "metadata": {},
     "output_type": "display_data"
    }
   ],
   "source": [
    "data.trip_distance.hist(bins=np.linspace(0, 10, 100), \n",
    "                        color='blue', edgecolor='black', \n",
    "                        alpha=0.5, figsize=(10, 8))"
   ]
  },
  {
   "cell_type": "markdown",
   "metadata": {
    "slideshow": {
     "slide_type": "slide"
    }
   },
   "source": [
    "* We notice that in the histogram there are some local maxima (peaks).\n",
    "\n",
    "* To investigate this, let's count how many routes were counted in each bucket (with a small difference that we don't mind here, in the histogram the buckets are right closed-left open, while here it's the other way around)."
   ]
  },
  {
   "cell_type": "code",
   "execution_count": 17,
   "metadata": {
    "slideshow": {
     "slide_type": "fragment"
    }
   },
   "outputs": [
    {
     "data": {
      "text/plain": [
       "(0.909, 1.01]     78629\n",
       "(0.808, 0.909]    68974\n",
       "(1.01, 1.111]     68413\n",
       "(0.707, 0.808]    66525\n",
       "(1.111, 1.212]    66112\n",
       "                  ...  \n",
       "(9.697, 9.798]     2022\n",
       "(7.879, 7.98]      2005\n",
       "(8.485, 8.586]     2005\n",
       "(8.283, 8.384]     1990\n",
       "(9.798, 9.899]     1974\n",
       "Name: trip_distance, Length: 99, dtype: int64"
      ]
     },
     "execution_count": 17,
     "metadata": {},
     "output_type": "execute_result"
    }
   ],
   "source": [
    "data['trip_distance'].value_counts(bins=np.linspace(0, 10, 100))"
   ]
  },
  {
   "cell_type": "markdown",
   "metadata": {
    "slideshow": {
     "slide_type": "slide"
    }
   },
   "source": [
    "* To locate the vertices, we need to compare the number of runs in each bucket with the corresponding numbers in neighboring buckets.\n",
    "\n",
    "* We currently have the numbers sorted by the number of routes.\n",
    "\n",
    "* We should sort them based on the bucket, i.e. the label of each row of the result of `value_counts()`.\n",
    "\n",
    "* Basically we want to sort based on the index of the result of `value_couns()`."
   ]
  },
  {
   "cell_type": "code",
   "execution_count": 18,
   "metadata": {
    "slideshow": {
     "slide_type": "fragment"
    }
   },
   "outputs": [
    {
     "data": {
      "text/plain": [
       "(-0.001, 0.101]    16986\n",
       "(0.101, 0.202]      7730\n",
       "(0.202, 0.303]     13104\n",
       "(0.303, 0.404]     24169\n",
       "(0.404, 0.505]     37491\n",
       "                   ...  \n",
       "(9.495, 9.596]      2137\n",
       "(9.596, 9.697]      2030\n",
       "(9.697, 9.798]      2022\n",
       "(9.798, 9.899]      1974\n",
       "(9.899, 10.0]       3214\n",
       "Name: trip_distance, Length: 99, dtype: int64"
      ]
     },
     "execution_count": 18,
     "metadata": {},
     "output_type": "execute_result"
    }
   ],
   "source": [
    "trip_distance_counts = data['trip_distance'].value_counts(bins=np.linspace(0, 10, 100)).sort_index()\n",
    "trip_distance_counts"
   ]
  },
  {
   "cell_type": "markdown",
   "metadata": {
    "slideshow": {
     "slide_type": "slide"
    }
   },
   "source": [
    "* So since we have the measurements per bucket, in order from the first bucket (0 to 0.10 miles) to the last (9.90 to 10 miles), we can find the vertices by comparing the neighbors.\n",
    "\n",
    "* For this purpose we can use the `find_peaks()` function of the [SciPy](https://scipy.org/) library.\n",
    "\n",
    "* Our function returns the position of the vertices and any additional features we may have asked for (and we now ignore)."
   ]
  },
  {
   "cell_type": "code",
   "execution_count": 19,
   "metadata": {
    "slideshow": {
     "slide_type": "fragment"
    }
   },
   "outputs": [
    {
     "data": {
      "text/plain": [
       "array([ 9, 19, 29, 39, 49, 59, 69, 79, 83, 89, 93], dtype=int64)"
      ]
     },
     "execution_count": 19,
     "metadata": {},
     "output_type": "execute_result"
    }
   ],
   "source": [
    "from scipy.signal import find_peaks\n",
    "\n",
    "peaks, _ = find_peaks(trip_distance_counts)\n",
    "peaks"
   ]
  },
  {
   "cell_type": "markdown",
   "metadata": {
    "slideshow": {
     "slide_type": "slide"
    }
   },
   "source": [
    "* Now we can find the buckets corresponding to the vertices.\n",
    "\n",
    "* We will use `iloc[]` to extract the lines at the vertex positions."
   ]
  },
  {
   "cell_type": "code",
   "execution_count": 20,
   "metadata": {
    "slideshow": {
     "slide_type": "fragment"
    }
   },
   "outputs": [
    {
     "data": {
      "text/plain": [
       "(0.909, 1.01]     78629\n",
       "(1.919, 2.02]     46971\n",
       "(2.929, 3.03]     23081\n",
       "(3.939, 4.04]     12562\n",
       "(4.949, 5.051]     7332\n",
       "(5.96, 6.061]      4756\n",
       "(6.97, 7.071]      3025\n",
       "(7.98, 8.081]      2343\n",
       "(8.384, 8.485]     2025\n",
       "(8.99, 9.091]      2425\n",
       "(9.394, 9.495]     2153\n",
       "Name: trip_distance, dtype: int64"
      ]
     },
     "execution_count": 20,
     "metadata": {},
     "output_type": "execute_result"
    }
   ],
   "source": [
    "trip_distance_counts.iloc[peaks]"
   ]
  },
  {
   "cell_type": "markdown",
   "metadata": {
    "slideshow": {
     "slide_type": "slide"
    }
   },
   "source": [
    "* So most peaks correspond to routes with a round distance (1, 2, ..., 8 miles)."
   ]
  },
  {
   "cell_type": "code",
   "execution_count": 21,
   "metadata": {
    "slideshow": {
     "slide_type": "fragment"
    }
   },
   "outputs": [
    {
     "data": {
      "image/png": "[encoded data removed]",
      "text/plain": [
       "<Figure size 1000x800 with 1 Axes>"
      ]
     },
     "metadata": {},
     "output_type": "display_data"
    }
   ],
   "source": [
    "ax = data.trip_distance.hist(bins=np.linspace(0, 10, 100), \n",
    "                             color='blue', edgecolor='black', \n",
    "                             alpha=0.5, figsize=(10, 8))\n",
    "for i in peaks:\n",
    "    ax.patches[i].set_facecolor('darkorange')"
   ]
  },
  {
   "cell_type": "code",
   "execution_count": null,
   "metadata": {},
   "outputs": [],
   "source": []
  },
  {
   "cell_type": "code",
   "execution_count": null,
   "metadata": {},
   "outputs": [],
   "source": []
  },
  {
   "cell_type": "code",
   "execution_count": null,
   "metadata": {},
   "outputs": [],
   "source": []
  }
 ],
 "metadata": {
  "celltoolbar": "Slideshow",
  "kernelspec": {
   "display_name": "Python 3 (ipykernel)",
   "language": "python",
   "name": "python3"
  },
  "language_info": {
   "codemirror_mode": {
    "name": "ipython",
    "version": 3
   },
   "file_extension": ".py",
   "mimetype": "text/x-python",
   "name": "python",
   "nbconvert_exporter": "python",
   "pygments_lexer": "ipython3",
   "version": "3.9.13"
  }
 },
 "nbformat": 4,
 "nbformat_minor": 1
}
